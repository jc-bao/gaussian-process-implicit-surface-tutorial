{
 "cells": [
  {
   "cell_type": "markdown",
   "metadata": {},
   "source": [
    "# Object Active Exploration to Peg in Hole"
   ]
  },
  {
   "cell_type": "code",
   "execution_count": null,
   "metadata": {},
   "outputs": [],
   "source": [
    "import numpy as np\n",
    "import torch\n",
    "import gpytorch\n",
    "from matplotlib import pyplot as plt\n",
    "from tqdm import trange\n",
    "import seaborn as sns\n",
    "from matplotlib import cm\n",
    "\n",
    "import models\n",
    "\n",
    "%matplotlib inline\n",
    "%matplotlib widget\n",
    "%load_ext autoreload\n",
    "%autoreload 2"
   ]
  },
  {
   "cell_type": "markdown",
   "metadata": {},
   "source": [
    "## Initialize objects\n"
   ]
  },
  {
   "cell_type": "code",
   "execution_count": null,
   "metadata": {},
   "outputs": [],
   "source": [
    "# object paramters\n",
    "obj_shape = torch.tensor([0.04, 0.03, 0.02])\n",
    "bound_range = 0.06\n",
    "obs_width = 0.01\n",
    "step = 0.001\n",
    "noise_scale = 0.01\n",
    "\n",
    "# generate cube\n",
    "# xs = torch.arange(-obj_shape[0]/2, obj_shape[0]/2+step, step=step)\n",
    "xs = torch.linspace(-0.5, 0.5, steps=11)\n",
    "# ys = torch.arange(-obj_shape[1]/2, obj_shape[1]/2+step, step=step)\n",
    "ys = torch.linspace(-0.5, 0.5, steps=11)\n",
    "# zs = torch.arange(-obj_shape[2]/2, obj_shape[2]/2+step, step=step)\n",
    "zs = torch.linspace(-0.5, 0.5, steps=11)\n",
    "\n",
    "xp_face = torch.stack(torch.meshgrid(torch.ones(1)*0.5, ys, zs), dim=-1).view(-1, 3)\n",
    "xn_face = torch.stack(torch.meshgrid(-torch.ones(1)*0.5, ys, zs), dim=-1).view(-1, 3)\n",
    "yp_face = torch.stack(torch.meshgrid(xs, torch.ones(1)*0.5, zs), dim=-1).view(-1, 3)\n",
    "yn_face = torch.stack(torch.meshgrid(xs, -torch.ones(1)*0.5, zs), dim=-1).view(-1, 3)\n",
    "zp_face = torch.stack(torch.meshgrid(xs, ys, torch.ones(1)*0.5), dim=-1).view(-1, 3)\n",
    "zn_face = torch.stack(torch.meshgrid(xs, ys, -torch.ones(1)*0.5), dim=-1).view(-1, 3)\n",
    "\n",
    "identity_cube = torch.cat((xp_face, xn_face, yp_face, yn_face, zp_face, zn_face), dim=0)\n",
    "cube = identity_cube * obj_shape\n",
    "cube_noisy = (identity_cube + torch.randn_like(identity_cube) * noise_scale) * obj_shape\n",
    "\n",
    "# generate observation\n",
    "mask_z = (torch.abs(cube[:, 0]) > (obj_shape[0]/2 - step*0.01)) | (torch.abs(cube[:, 1]) > (obj_shape[1]/2 - step*0.01))\n",
    "obs_z_true = identity_cube[mask_z, :] \n",
    "obs_z = (obs_z_true + torch.randn_like(obs_true_z) * noise_scale)*obj_shape\n",
    "\n",
    "\n",
    "mask_x = torch.abs(cube[:, 0]) < obs_width \n",
    "obs_x = cube_noisy[mask_x, :]\n",
    "\n",
    "mask_x = torch.abs(cube[:, 0]) < obj_shape[0]/2 \n",
    "obs_x_full = cube_noisy[mask_x, :]\n",
    "\n",
    "mask_y = torch.abs(cube[:, 1]) < obs_width\n",
    "obs_y = cube_noisy[mask_y, :]"
   ]
  },
  {
   "cell_type": "code",
   "execution_count": null,
   "metadata": {},
   "outputs": [],
   "source": [
    "fig = plt.figure(figsize=(16,4))\n",
    "\n",
    "for i, data in enumerate([obs_x, obs_y, obs_z, cube]):\n",
    "  ax = fig.add_subplot(1, 4, i+1, projection='3d')\n",
    "  ax.set_box_aspect(obj_shape)\n",
    "  ax.scatter(data[:,0].numpy(), data[:,1].numpy(), data[:,2])\n",
    "  ax.title.set_text(f'{i}')"
   ]
  },
  {
   "cell_type": "code",
   "execution_count": null,
   "metadata": {},
   "outputs": [],
   "source": [
    "\n",
    "# Parameters:\n",
    "theta = torch.linspace(0, 2*np.pi, 20)\n",
    "phi = torch.linspace(0, np.pi, 20)\n",
    "theta, phi = torch.meshgrid(theta, phi)\n",
    "rho = bound_range\n",
    "# Parametrization:\n",
    "outter = torch.stack([rho*np.cos(theta)*np.sin(phi), rho*np.sin(theta)*np.sin(phi), rho*np.cos(phi)], dim=-1).view(-1, 3)\n",
    "inner = torch.zeros((1,3))"
   ]
  },
  {
   "cell_type": "code",
   "execution_count": null,
   "metadata": {},
   "outputs": [],
   "source": [
    "outter = identity_cube * obj_shape.max() * 1.7"
   ]
  },
  {
   "cell_type": "code",
   "execution_count": null,
   "metadata": {},
   "outputs": [],
   "source": [
    "fig = plt.figure(figsize=(10,5))\n",
    "\n",
    "for i, data in enumerate([outter, inner]):\n",
    "  ax = fig.add_subplot(1, 2, i+1, projection='3d')\n",
    "  ax.scatter(data[:,0].numpy(), data[:,1].numpy(), data[:,2].numpy())\n",
    "  ax.title.set_text(f'{i}')"
   ]
  },
  {
   "cell_type": "markdown",
   "metadata": {},
   "source": [
    "## Train with First Grasp"
   ]
  },
  {
   "cell_type": "code",
   "execution_count": null,
   "metadata": {},
   "outputs": [],
   "source": [
    "x_train = torch.cat((obs_z, outter, inner), dim=0) / obj_shape\n",
    "f_train = torch.cat([\n",
    "  torch.zeros(obs_z.shape[0]),\n",
    "  torch.ones(outter.shape[0]),\n",
    "  -torch.ones(inner.shape[0])\n",
    "], dim=0)\n"
   ]
  },
  {
   "cell_type": "code",
   "execution_count": null,
   "metadata": {},
   "outputs": [],
   "source": [
    "# train with tight outter and inner\n",
    "x_train = torch.cat((obs_z, obs_z_true*1.1, obs_z_true*0.9), dim=0) / obj_shape\n",
    "f_train = torch.cat([\n",
    "  torch.zeros(obs_z.shape[0]),\n",
    "  torch.ones(obs_z.shape[0]),\n",
    "  -torch.ones(obs_z.shape[0])\n",
    "], dim=0)"
   ]
  },
  {
   "cell_type": "markdown",
   "metadata": {},
   "source": [
    "## Train with Second Grasp "
   ]
  },
  {
   "cell_type": "code",
   "execution_count": null,
   "metadata": {},
   "outputs": [],
   "source": [
    "x_train = torch.cat((obs_z, obs_x, outter, inner), dim=0) / obj_shape\n",
    "f_train = torch.cat([\n",
    "  torch.zeros(obs_z.shape[0]),\n",
    "  torch.zeros(obs_x.shape[0]),\n",
    "  torch.ones(outter.shape[0]),\n",
    "  -torch.ones(inner.shape[0])\n",
    "], dim=0)"
   ]
  },
  {
   "cell_type": "code",
   "execution_count": null,
   "metadata": {},
   "outputs": [],
   "source": [
    "# initialize likelihood and model\n",
    "likelihood = gpytorch.likelihoods.GaussianLikelihood()\n",
    "b_like = gpytorch.likelihoods.BernoulliLikelihood()\n",
    "model = models.thinPlateModel(x_train, f_train, likelihood)\n",
    "hypers = {\n",
    "  'likelihood.noise_covar.noise': 0.03,\n",
    "  'covar_module.max_dist': torch.tensor(7.8),\n",
    "  # 'covar_module.base_kernel.lengthscale': torch.tensor(0.6),\n",
    "}\n",
    "model_params = model.initialize(**hypers)"
   ]
  },
  {
   "cell_type": "code",
   "execution_count": null,
   "metadata": {},
   "outputs": [],
   "source": [
    "training_iter = 30\n",
    "\n",
    "# Find optimal model hyperparameters\n",
    "model.train()\n",
    "likelihood.train()\n",
    "\n",
    "optimizer = torch.optim.Adam(model.parameters(), lr=0.02)\n",
    "\n",
    "mll = gpytorch.mlls.ExactMarginalLogLikelihood(likelihood, model)\n",
    "\n",
    "for i in (pbar := trange(training_iter)):\n",
    "  # Zero gradients from previous iteration\n",
    "  optimizer.zero_grad()\n",
    "  \n",
    "  # Output from model\n",
    "  output = model(x_train)\n",
    "  loss = -mll(output, f_train)\n",
    "  loss.backward()\n",
    "  pbar.set_description('Iter %d/%d - Loss: %.3f   lengthscale: %.3f   noise: %.3f' % (\n",
    "        i + 1, training_iter, loss.item(),\n",
    "        model.covar_module.max_dist, # model.covar_module.base_kernel.lengthscale.item(),\n",
    "        model.likelihood.noise.item()\n",
    "    ))\n",
    "  optimizer.step()"
   ]
  },
  {
   "cell_type": "code",
   "execution_count": null,
   "metadata": {},
   "outputs": [],
   "source": [
    "resolusion = 50\n",
    "\n",
    "model.eval()\n",
    "likelihood.eval()\n",
    "\n",
    "xs = torch.linspace(-1, 1, steps=resolusion + 1)\n",
    "ys = torch.linspace(-1, 1, steps=resolusion + 1)\n",
    "zs = torch.linspace(-1, 1, steps=resolusion + 1)\n",
    "x_test = torch.stack(torch.meshgrid(xs, ys, zs), dim=-1).view(-1, 3)\n",
    "\n",
    "with torch.no_grad(), gpytorch.settings.fast_pred_var():\n",
    "  distri = model(x_test)\n",
    "  f_test = likelihood(distri)\n",
    "  b_test = b_like(distri)\n",
    "# f_test_mu = f_test.mean.view(resolusion+1, resolusion+1, resolusion+1)"
   ]
  },
  {
   "cell_type": "code",
   "execution_count": null,
   "metadata": {},
   "outputs": [],
   "source": [
    "f_test_mu = f_test.mean.view(resolusion+1, resolusion+1, resolusion+1)\n",
    "f_test_var = f_test.variance.view(resolusion+1, resolusion+1, resolusion+1)"
   ]
  },
  {
   "cell_type": "code",
   "execution_count": null,
   "metadata": {},
   "outputs": [],
   "source": [
    "fig, axes = plt.subplots(2, 3, figsize=(15, 10))\n",
    "\n",
    "f_test_mu = torch.clip(f_test_mu, -1, 1).view(resolusion+1, resolusion+1, resolusion+1)\n",
    "\n",
    "pp = torch.linspace(0,resolusion,resolusion+1)\n",
    "ii, jj = np.meshgrid(pp, pp)\n",
    "\n",
    "title=['z', 'y', 'x']\n",
    "x_test_view = x_test.view(resolusion+1, resolusion+1, resolusion+1, 3)\n",
    "for i, (var, mu) in enumerate([\n",
    "  (f_test_var[:, :, resolusion//2], f_test_mu[:,:,resolusion//2]), \n",
    "  (f_test_var[:, resolusion//2, :], f_test_mu[:,resolusion//2,:]),\n",
    "  (f_test_var[resolusion//2, :, :], f_test_mu[resolusion//2,:]),\n",
    "]):\n",
    "  sns.heatmap(mu.transpose(0,1).numpy(), square=True,  cmap=\"RdBu\", ax=axes[0, i])\n",
    "  sns.heatmap(var.transpose(0,1).detach().numpy(), square=True,  ax=axes[1, i])\n",
    "  # mask = (np.abs(data) < 0.03)\n",
    "  # axes[i].scatter(ii[mask], jj[mask], color='g')\n",
    "  axes[0, i].title.set_text(title[i])"
   ]
  },
  {
   "cell_type": "code",
   "execution_count": null,
   "metadata": {},
   "outputs": [],
   "source": [
    "fig = plt.figure()\n",
    "ax = fig.add_subplot(projection='3d')\n",
    "ax.set_box_aspect(obj_shape)\n",
    "mask = (np.abs(f_test_mu) < 2e-2)\n",
    "surface = x_test.view(resolusion+1, resolusion+1, resolusion+1,3)[mask,:] * obj_shape\n",
    "var = f_test_var[mask].detach().numpy()\n",
    "ax = plt.axes(projection='3d')\n",
    "ax.scatter(surface[:,0], surface[:,1], surface[:,2], c=var, cmap='viridis', alpha=0.8, linewidths=0.3)\n",
    "fig.colorbar(ax.collections[0], shrink=0.5, aspect=10)\n",
    "# ax.scatter(cube[:,0], cube[:,1], cube[:,2], c='r', marker='x', alpha=0.8, linewidths=1)"
   ]
  },
  {
   "cell_type": "markdown",
   "metadata": {},
   "source": [
    "## Analyze the model"
   ]
  },
  {
   "cell_type": "code",
   "execution_count": null,
   "metadata": {},
   "outputs": [],
   "source": [
    "eval_x = torch.cat((\n",
    "  yp_face, yn_face, zp_face, zn_face\n",
    "), dim=0)*obj_shape\n",
    "y_shape = obj_shape.clone()\n",
    "y_shape[0] = y_shape[1]\n",
    "eval_y = torch.cat((\n",
    "  xp_face, xn_face, zp_face, zn_face\n",
    "), dim=0)*y_shape\n",
    "z_shape = obj_shape.clone()\n",
    "z_shape[0] = obj_shape[1]\n",
    "z_shape[1] = obj_shape[2]\n",
    "eval_z = torch.cat((\n",
    "  xp_face, xn_face, yp_face, yn_face\n",
    "), dim=0)*z_shape"
   ]
  },
  {
   "cell_type": "code",
   "execution_count": null,
   "metadata": {},
   "outputs": [],
   "source": [
    "fig = plt.figure(figsize=(15,5))\n",
    "\n",
    "for i, data in enumerate([eval_x, eval_y, eval_z]):\n",
    "  ax = fig.add_subplot(1, 3, i+1, projection='3d')\n",
    "  ax.set_box_aspect(obj_shape)\n",
    "  ax.scatter(data[:,0].numpy(), data[:,1].numpy(), data[:,2].numpy())\n",
    "  ax.title.set_text(f'{i}')"
   ]
  },
  {
   "cell_type": "code",
   "execution_count": null,
   "metadata": {},
   "outputs": [],
   "source": [
    "for data in [eval_x, eval_y, eval_z]:\n",
    "  with torch.no_grad(), gpytorch.settings.fast_pred_var():\n",
    "    distri = model(data/obj_shape)\n",
    "    f_test = likelihood(distri)\n",
    "    print(f_test.mean.mean().item(), f_test.variance.mean().item())"
   ]
  },
  {
   "cell_type": "code",
   "execution_count": null,
   "metadata": {},
   "outputs": [],
   "source": [
    "obj_test = x_test_view*obj_shape \n",
    "\n",
    "mean = b_test.mean.view(resolusion+1, resolusion+1, resolusion+1)\n",
    "var = b_test.variance.view(resolusion+1, resolusion+1, resolusion+1)"
   ]
  },
  {
   "cell_type": "code",
   "execution_count": null,
   "metadata": {},
   "outputs": [],
   "source": [
    "box = torch.cat((\n",
    "  yp_face, yn_face, zp_face, zn_face\n",
    "), dim=0)*obj_shape*1.05\n",
    "box = torch.cat([box, torch.ones((box.shape[0],1))],dim=-1)"
   ]
  },
  {
   "cell_type": "code",
   "execution_count": null,
   "metadata": {},
   "outputs": [],
   "source": [
    "theta = torch.linspace(-np.pi/2, np.pi/2, steps=11)\n",
    "phi = torch.linspace(-np.pi, np.pi, steps=21)\n",
    "theta, phi = torch.meshgrid(theta, phi)\n",
    "rot_mat = torch.eye(4).repeat(11, 21, 1, 1)\n",
    "\n",
    "rot_mat[:,:,0,0] = torch.cos(phi)\n",
    "rot_mat[:,:,0,1] = torch.zeros_like(theta)\n",
    "rot_mat[:,:,0,2] = -torch.sin(phi)\n",
    "\n",
    "rot_mat[:,:,1,0] = -torch.sin(theta)*torch.sin(phi)\n",
    "rot_mat[:,:,1,1] = torch.cos(theta)\n",
    "rot_mat[:,:,1,2] = -torch.sin(theta)*torch.cos(phi)\n",
    "\n",
    "rot_mat[:,:,2,0] = torch.cos(theta)*torch.sin(phi)\n",
    "rot_mat[:,:,2,1] = torch.sin(theta)\n",
    "rot_mat[:,:,2,2] = torch.cos(theta)*torch.cos(phi)"
   ]
  },
  {
   "cell_type": "code",
   "execution_count": null,
   "metadata": {},
   "outputs": [],
   "source": [
    "rot_x = (rot_mat@box.transpose(0,1)).transpose(-1,-2)\n",
    "rot_x = rot_x[..., :3]"
   ]
  },
  {
   "cell_type": "code",
   "execution_count": null,
   "metadata": {},
   "outputs": [],
   "source": [
    "with torch.no_grad(), gpytorch.settings.fast_pred_var():\n",
    "  distri = model(rot_x/obj_shape)\n",
    "  b_rot = b_like(distri)"
   ]
  },
  {
   "cell_type": "code",
   "execution_count": null,
   "metadata": {},
   "outputs": [],
   "source": [
    "log_prob = torch.log(b_rot.mean).sum(dim=-1)\n",
    "var = b_rot.variance.mean(dim=-1)"
   ]
  },
  {
   "cell_type": "code",
   "execution_count": null,
   "metadata": {},
   "outputs": [],
   "source": [
    "fig, axes = plt.subplots(1, 2, figsize=(12, 6))\n",
    "sns.heatmap(log_prob.numpy(), ax=axes[0], square=True)\n",
    "sns.heatmap(var.numpy(), square=True,  ax=axes[1])"
   ]
  }
 ],
 "metadata": {
  "kernelspec": {
   "display_name": "Python 3.9.12 ('rl')",
   "language": "python",
   "name": "python3"
  },
  "language_info": {
   "codemirror_mode": {
    "name": "ipython",
    "version": 3
   },
   "file_extension": ".py",
   "mimetype": "text/x-python",
   "name": "python",
   "nbconvert_exporter": "python",
   "pygments_lexer": "ipython3",
   "version": "3.9.12"
  },
  "orig_nbformat": 4,
  "vscode": {
   "interpreter": {
    "hash": "bf58728769140bed469c3f1c7517edbf13ffa7b6f4a744745895768c3bf5c554"
   }
  }
 },
 "nbformat": 4,
 "nbformat_minor": 2
}
